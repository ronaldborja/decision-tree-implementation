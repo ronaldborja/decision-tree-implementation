{
 "cells": [
  {
   "cell_type": "markdown",
   "id": "eb8aadc5",
   "metadata": {},
   "source": [
    "# Implementación Decision Trees - Clasificación\n",
    "**Autor: Ronald Borja Román**"
   ]
  },
  {
   "cell_type": "code",
   "execution_count": 3,
   "id": "6cdedda1",
   "metadata": {},
   "outputs": [],
   "source": [
    "# Librerías\n",
    "import numpy as np \n",
    "import pandas as pd "
   ]
  },
  {
   "cell_type": "code",
   "execution_count": 89,
   "id": "013e23f8",
   "metadata": {},
   "outputs": [],
   "source": [
    "import numpy as np\n",
    "\n",
    "# Clase Nodo: \n",
    "class Nodo():\n",
    "    # Constructor -> \n",
    "    def __init__(self, indice_atributo=None, umbral=None, izquierdo=None, derecho=None, valor=None):\n",
    "        # Nodos de decisión \n",
    "        self.indice_atributo = indice_atributo\n",
    "        self.umbral = umbral\n",
    "        self.izquierdo = izquierdo\n",
    "        self.derecho = derecho\n",
    "        \n",
    "        # Nodos finales (hojas)\n",
    "        self.valor = valor\n",
    "\n",
    "    \n",
    "class ArbolDecisionClassifier():\n",
    "    # Constructor del modelo\n",
    "    def __init__(self, min_muestras_division=2, max_profundidad=2):\n",
    "        self.min_muestras_division = min_muestras_division\n",
    "        self.max_profundidad = max_profundidad\n",
    "        self.raiz = None\n",
    "\n",
    "    # Función para construir los nodos de forma recursiva \n",
    "    def construir_arbol(self, conjunto_datos, profundidad_actual=0):\n",
    "        X, Y = conjunto_datos[:, :-1], conjunto_datos[:, -1]\n",
    "        num_muestras, num_atributos = np.shape(X)\n",
    "\n",
    "        # Condiciones de parada -> \n",
    "        if num_muestras < self.min_muestras_division or profundidad_actual == self.max_profundidad:\n",
    "            valor_hoja = np.bincount(Y.astype(int)).argmax()\n",
    "            return Nodo(valor=valor_hoja)\n",
    "\n",
    "        # Mejor separador de los datos \n",
    "        mejor_separacion = self.obtener_mejor_separacion(conjunto_datos, num_muestras, num_atributos)\n",
    "\n",
    "        # Calculo de \n",
    "        if mejor_separacion[\"info_gain\"] > 0:\n",
    "            izquierdo = self.construir_arbol(mejor_separacion[\"conjunto_izquierdo\"], profundidad_actual + 1)\n",
    "            derecho = self.construir_arbol(mejor_separacion[\"conjunto_derecho\"], profundidad_actual + 1)\n",
    "            \n",
    "            return Nodo(indice_atributo=mejor_separacion[\"indice_atributo\"],\n",
    "                        umbral=mejor_separacion[\"umbral\"], izquierdo=izquierdo, derecho=derecho)\n",
    "\n",
    "        # Si no se cumple la conidición de la ganancia -> Se asume que es un nodo hoja \n",
    "        valor_hoja = np.bincount(Y).argmax()\n",
    "        return Nodo(valor=valor_hoja)\n",
    "\n",
    "    # Función para separar los datos \n",
    "    def obtener_mejor_separacion(self, conjunto_datos, num_muestras, num_atributos):\n",
    "        mejor_separacion = {\"info_gain\": -float(\"inf\")}\n",
    "        \n",
    "        # Se itera sobre el rango de todos los inputs al modelo\n",
    "        for ind_atributo in range(num_atributos):\n",
    "            valores_atributo = conjunto_datos[:, ind_atributo]\n",
    "            umbrales_posibles = np.unique(valores_atributo) #Se toman solo los valores unicos \n",
    "\n",
    "            # Se evaluan todos los umbrales posibles -> \n",
    "            for umbral in umbrales_posibles:\n",
    "                # División del nodo\n",
    "                conjunto_izquierdo, conjunto_derecho = self.dividir(conjunto_datos, ind_atributo, umbral)\n",
    "\n",
    "                # Siempre que los conjuntos tengan datos: \n",
    "                if len(conjunto_izquierdo) > 0 and len(conjunto_derecho) > 0:\n",
    "                    info_gain_actual = self.info_gain(conjunto_datos[:, -1], conjunto_izquierdo[:, -1],\n",
    "                                                      conjunto_derecho[:, -1])\n",
    "                    \n",
    "                    # Si la ganancia de información es mayor que la actual, se procede a almacenar el nuevo split \n",
    "                    if info_gain_actual > mejor_separacion[\"info_gain\"]:\n",
    "                        mejor_separacion = {\"indice_atributo\": ind_atributo,\n",
    "                                            \"umbral\": umbral,\n",
    "                                            \"conjunto_izquierdo\": conjunto_izquierdo,\n",
    "                                            \"conjunto_derecho\": conjunto_derecho,\n",
    "                                            \"info_gain\": info_gain_actual}\n",
    "\n",
    "        return mejor_separacion\n",
    "    \n",
    "    # Función para dividir los datos \n",
    "    def dividir(self, conjunto_datos, ind_atributo, umbral):\n",
    "        conjunto_izquierdo = conjunto_datos[conjunto_datos[:, ind_atributo] <= umbral]\n",
    "        conjunto_derecho = conjunto_datos[conjunto_datos[:, ind_atributo] > umbral]\n",
    "        return conjunto_izquierdo, conjunto_derecho\n",
    "\n",
    "    # Función para calcular la ganancia usando la entrpía \n",
    "    def info_gain(self, padre, izquierdo, derecho):\n",
    "        peso_izquierdo = len(izquierdo) / len(padre)\n",
    "        peso_derecho = len(derecho) / len(padre)\n",
    "\n",
    "        return self.entropy(padre) - (peso_izquierdo * self.entropy(izquierdo) + peso_derecho * self.entropy(derecho))\n",
    "\n",
    "    # Función entropía \n",
    "    def entropy(self, y):\n",
    "        prob_clases = np.bincount(y.astype(int)) / len(y)\n",
    "        return -np.sum(prob_clases * np.log2(prob_clases + 1e-10))\n",
    "\n",
    "    # Función para entrenar el modelo \n",
    "    def fit(self, X, Y):\n",
    "        conjunto_datos = np.column_stack((X, Y))\n",
    "        self.raiz = self.construir_arbol(conjunto_datos)\n",
    "        \n",
    "    # Función predict\n",
    "    def predict(self, X):\n",
    "        # Inicializar un array para almacenar las predicciones\n",
    "        predicciones = np.zeros(len(X), dtype=int)\n",
    "\n",
    "        # Iterar sobre cada muestra y predecir\n",
    "        for i in range(len(X)):\n",
    "            predicciones[i] = self.predict_single(self.raiz, X[i])\n",
    "            \n",
    "        return predicciones\n",
    "\n",
    "    # Función auxiliar para predecir una sola muestra\n",
    "    def predict_single(self, nodo, muestra):\n",
    "        # Si es un nodo hoja, retornar el valor\n",
    "        if nodo.valor is not None:\n",
    "            return nodo.valor\n",
    "\n",
    "        # Comparar el valor del atributo en la muestra con el umbral del nodo actual\n",
    "        if muestra[nodo.indice_atributo] <= nodo.umbral:\n",
    "            # Recurrir al subárbol izquierdo\n",
    "            return self.predict_single(nodo.izquierdo, muestra)\n",
    "        else:\n",
    "            # Recurrir al subárbol derecho\n",
    "            return self.predict_single(nodo.derecho, muestra)"
   ]
  },
  {
   "cell_type": "code",
   "execution_count": 55,
   "id": "29054829",
   "metadata": {},
   "outputs": [
    {
     "data": {
      "text/plain": [
       "array(['Iris-setosa', 'Iris-versicolor', 'Iris-virginica'], dtype=object)"
      ]
     },
     "execution_count": 55,
     "metadata": {},
     "output_type": "execute_result"
    }
   ],
   "source": [
    "col_names = ['sepal_length', 'sepal_width', 'petal_length', 'petal_width', 'type']\n",
    "data = pd.read_csv('Iris.csv', skiprows=1, header=None, names=col_names)\n",
    "\n",
    "data[\"type\"].unique()"
   ]
  },
  {
   "cell_type": "code",
   "execution_count": 107,
   "id": "3846f5df",
   "metadata": {},
   "outputs": [
    {
     "data": {
      "text/html": [
       "<div>\n",
       "<style scoped>\n",
       "    .dataframe tbody tr th:only-of-type {\n",
       "        vertical-align: middle;\n",
       "    }\n",
       "\n",
       "    .dataframe tbody tr th {\n",
       "        vertical-align: top;\n",
       "    }\n",
       "\n",
       "    .dataframe thead th {\n",
       "        text-align: right;\n",
       "    }\n",
       "</style>\n",
       "<table border=\"1\" class=\"dataframe\">\n",
       "  <thead>\n",
       "    <tr style=\"text-align: right;\">\n",
       "      <th></th>\n",
       "      <th>sepal_length</th>\n",
       "      <th>sepal_width</th>\n",
       "      <th>petal_length</th>\n",
       "      <th>petal_width</th>\n",
       "      <th>type</th>\n",
       "    </tr>\n",
       "  </thead>\n",
       "  <tbody>\n",
       "    <tr>\n",
       "      <th>1</th>\n",
       "      <td>5.1</td>\n",
       "      <td>3.5</td>\n",
       "      <td>1.4</td>\n",
       "      <td>0.2</td>\n",
       "      <td>Iris-setosa</td>\n",
       "    </tr>\n",
       "    <tr>\n",
       "      <th>2</th>\n",
       "      <td>4.9</td>\n",
       "      <td>3.0</td>\n",
       "      <td>1.4</td>\n",
       "      <td>0.2</td>\n",
       "      <td>Iris-setosa</td>\n",
       "    </tr>\n",
       "    <tr>\n",
       "      <th>3</th>\n",
       "      <td>4.7</td>\n",
       "      <td>3.2</td>\n",
       "      <td>1.3</td>\n",
       "      <td>0.2</td>\n",
       "      <td>Iris-setosa</td>\n",
       "    </tr>\n",
       "    <tr>\n",
       "      <th>4</th>\n",
       "      <td>4.6</td>\n",
       "      <td>3.1</td>\n",
       "      <td>1.5</td>\n",
       "      <td>0.2</td>\n",
       "      <td>Iris-setosa</td>\n",
       "    </tr>\n",
       "    <tr>\n",
       "      <th>5</th>\n",
       "      <td>5.0</td>\n",
       "      <td>3.6</td>\n",
       "      <td>1.4</td>\n",
       "      <td>0.2</td>\n",
       "      <td>Iris-setosa</td>\n",
       "    </tr>\n",
       "    <tr>\n",
       "      <th>...</th>\n",
       "      <td>...</td>\n",
       "      <td>...</td>\n",
       "      <td>...</td>\n",
       "      <td>...</td>\n",
       "      <td>...</td>\n",
       "    </tr>\n",
       "    <tr>\n",
       "      <th>146</th>\n",
       "      <td>6.7</td>\n",
       "      <td>3.0</td>\n",
       "      <td>5.2</td>\n",
       "      <td>2.3</td>\n",
       "      <td>Iris-virginica</td>\n",
       "    </tr>\n",
       "    <tr>\n",
       "      <th>147</th>\n",
       "      <td>6.3</td>\n",
       "      <td>2.5</td>\n",
       "      <td>5.0</td>\n",
       "      <td>1.9</td>\n",
       "      <td>Iris-virginica</td>\n",
       "    </tr>\n",
       "    <tr>\n",
       "      <th>148</th>\n",
       "      <td>6.5</td>\n",
       "      <td>3.0</td>\n",
       "      <td>5.2</td>\n",
       "      <td>2.0</td>\n",
       "      <td>Iris-virginica</td>\n",
       "    </tr>\n",
       "    <tr>\n",
       "      <th>149</th>\n",
       "      <td>6.2</td>\n",
       "      <td>3.4</td>\n",
       "      <td>5.4</td>\n",
       "      <td>2.3</td>\n",
       "      <td>Iris-virginica</td>\n",
       "    </tr>\n",
       "    <tr>\n",
       "      <th>150</th>\n",
       "      <td>5.9</td>\n",
       "      <td>3.0</td>\n",
       "      <td>5.1</td>\n",
       "      <td>1.8</td>\n",
       "      <td>Iris-virginica</td>\n",
       "    </tr>\n",
       "  </tbody>\n",
       "</table>\n",
       "<p>150 rows × 5 columns</p>\n",
       "</div>"
      ],
      "text/plain": [
       "     sepal_length  sepal_width  petal_length  petal_width            type\n",
       "1             5.1          3.5           1.4          0.2     Iris-setosa\n",
       "2             4.9          3.0           1.4          0.2     Iris-setosa\n",
       "3             4.7          3.2           1.3          0.2     Iris-setosa\n",
       "4             4.6          3.1           1.5          0.2     Iris-setosa\n",
       "5             5.0          3.6           1.4          0.2     Iris-setosa\n",
       "..            ...          ...           ...          ...             ...\n",
       "146           6.7          3.0           5.2          2.3  Iris-virginica\n",
       "147           6.3          2.5           5.0          1.9  Iris-virginica\n",
       "148           6.5          3.0           5.2          2.0  Iris-virginica\n",
       "149           6.2          3.4           5.4          2.3  Iris-virginica\n",
       "150           5.9          3.0           5.1          1.8  Iris-virginica\n",
       "\n",
       "[150 rows x 5 columns]"
      ]
     },
     "execution_count": 107,
     "metadata": {},
     "output_type": "execute_result"
    }
   ],
   "source": [
    "data"
   ]
  },
  {
   "cell_type": "code",
   "execution_count": 57,
   "id": "d93cb28a",
   "metadata": {},
   "outputs": [],
   "source": [
    "X = data.iloc[:, :-1].values\n",
    "y = data.iloc[:,-1].values.reshape(-1,1)"
   ]
  },
  {
   "cell_type": "code",
   "execution_count": 58,
   "id": "f683ef04",
   "metadata": {},
   "outputs": [],
   "source": [
    "from sklearn.preprocessing import LabelEncoder\n",
    "label_encoder = LabelEncoder()\n",
    "labels_numeric = label_encoder.fit_transform(y.ravel())"
   ]
  },
  {
   "cell_type": "code",
   "execution_count": 59,
   "id": "ac8df052",
   "metadata": {},
   "outputs": [
    {
     "data": {
      "text/plain": [
       "array([0, 0, 0, 0, 0, 0, 0, 0, 0, 0, 0, 0, 0, 0, 0, 0, 0, 0, 0, 0, 0, 0,\n",
       "       0, 0, 0, 0, 0, 0, 0, 0, 0, 0, 0, 0, 0, 0, 0, 0, 0, 0, 0, 0, 0, 0,\n",
       "       0, 0, 0, 0, 0, 0, 1, 1, 1, 1, 1, 1, 1, 1, 1, 1, 1, 1, 1, 1, 1, 1,\n",
       "       1, 1, 1, 1, 1, 1, 1, 1, 1, 1, 1, 1, 1, 1, 1, 1, 1, 1, 1, 1, 1, 1,\n",
       "       1, 1, 1, 1, 1, 1, 1, 1, 1, 1, 1, 1, 2, 2, 2, 2, 2, 2, 2, 2, 2, 2,\n",
       "       2, 2, 2, 2, 2, 2, 2, 2, 2, 2, 2, 2, 2, 2, 2, 2, 2, 2, 2, 2, 2, 2,\n",
       "       2, 2, 2, 2, 2, 2, 2, 2, 2, 2, 2, 2, 2, 2, 2, 2, 2, 2])"
      ]
     },
     "execution_count": 59,
     "metadata": {},
     "output_type": "execute_result"
    }
   ],
   "source": [
    "labels_numeric"
   ]
  },
  {
   "cell_type": "code",
   "execution_count": 63,
   "id": "0f93672a",
   "metadata": {},
   "outputs": [],
   "source": [
    "y = labels_numeric\n",
    "y = y.astype('int64')"
   ]
  },
  {
   "cell_type": "code",
   "execution_count": 90,
   "id": "035964c8",
   "metadata": {},
   "outputs": [],
   "source": [
    "from sklearn.model_selection import train_test_split \n",
    "X_train, X_test, Y_train, Y_test = train_test_split(X, y, test_size=0.2, random_state=42)"
   ]
  },
  {
   "cell_type": "code",
   "execution_count": 91,
   "id": "1e35257f",
   "metadata": {},
   "outputs": [],
   "source": [
    "clf = ArbolDecisionClassifier()\n",
    "clf.fit(X_train, Y_train)"
   ]
  },
  {
   "cell_type": "code",
   "execution_count": 100,
   "id": "6acf7f8b",
   "metadata": {},
   "outputs": [],
   "source": [
    "preds = clf.predict(X_test) "
   ]
  },
  {
   "cell_type": "code",
   "execution_count": 106,
   "id": "ab1dcd6e",
   "metadata": {},
   "outputs": [
    {
     "name": "stdout",
     "output_type": "stream",
     "text": [
      "La exactitud del modelo es de: 96.67%\n"
     ]
    }
   ],
   "source": [
    "from sklearn.metrics import accuracy_score\n",
    "print(f\"La exactitud del modelo es de: {round(accuracy_score(Y_test, preds)*100,2)}%\")"
   ]
  }
 ],
 "metadata": {
  "kernelspec": {
   "display_name": "Python 3 (ipykernel)",
   "language": "python",
   "name": "python3"
  },
  "language_info": {
   "codemirror_mode": {
    "name": "ipython",
    "version": 3
   },
   "file_extension": ".py",
   "mimetype": "text/x-python",
   "name": "python",
   "nbconvert_exporter": "python",
   "pygments_lexer": "ipython3",
   "version": "3.11.5"
  }
 },
 "nbformat": 4,
 "nbformat_minor": 5
}
